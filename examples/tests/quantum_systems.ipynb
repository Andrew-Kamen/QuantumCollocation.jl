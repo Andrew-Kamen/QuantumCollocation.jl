{
 "cells": [
  {
   "cell_type": "code",
   "execution_count": 1,
   "metadata": {
    "notebookRunGroups": {
     "groupValue": "1"
    }
   },
   "outputs": [],
   "source": [
    "using Revise\n",
    "using LinearAlgebra\n",
    "using SparseArrays\n",
    "using Arpack"
   ]
  },
  {
   "cell_type": "code",
   "execution_count": 2,
   "metadata": {
    "notebookRunGroups": {
     "groupValue": "1"
    }
   },
   "outputs": [],
   "source": [
    "include(\"../../src/quantum_utils.jl\")\n",
    "include(\"../../src/quantum_systems.jl\")\n",
    "using .QuantumUtils\n",
    "using .QuantumSystems"
   ]
  },
  {
   "cell_type": "code",
   "execution_count": 3,
   "metadata": {},
   "outputs": [
    {
     "data": {
      "text/plain": [
       "10×10 Matrix{ComplexF64}:\n",
       "     0.995012+0.0im   2.28402e-16+0.0im  …  -1.10543e-16-0.0im\n",
       "  2.28402e-16-0.0im      0.985062+0.0im      1.48659e-10+0.0im\n",
       "   -0.0070358+0.0im   3.17604e-17-0.0im     -4.25499e-17-0.0im\n",
       "  8.21238e-17-0.0im    -0.0121457-0.0im      -3.39012e-7-0.0im\n",
       "   2.03106e-5-0.0im   2.01737e-16-0.0im     -8.76711e-17-0.0im\n",
       " -1.45668e-16-0.0im    4.53251e-5-0.0im  …   0.000226469+0.0im\n",
       "  -3.70819e-8+0.0im  -1.90991e-16+0.0im      7.36243e-17+0.0im\n",
       "  1.45679e-16-0.0im   -9.79694e-8+0.0im       -0.0415844-0.0im\n",
       "  4.95527e-11-0.0im   1.56535e-16-0.0im      7.89595e-18+0.0im\n",
       " -1.10543e-16+0.0im   1.48659e-10-0.0im         0.955633+0.0im"
      ]
     },
     "execution_count": 3,
     "metadata": {},
     "output_type": "execute_result"
    }
   ],
   "source": [
    "ϵ = 0.1\n",
    "â = annihilate(10)\n",
    "cos(ϵ * (â + â'))"
   ]
  },
  {
   "cell_type": "code",
   "execution_count": 4,
   "metadata": {},
   "outputs": [
    {
     "data": {
      "text/plain": [
       "10×10 Matrix{ComplexF64}:\n",
       "    0.995012+0.0im         0.0+0.0im  -0.00703571+0.0im  …          0.0+0.0im\n",
       "         0.0+0.0im    0.985062+0.0im          0.0+0.0im             0.0+0.0im\n",
       " -0.00703571+0.0im         0.0+0.0im     0.975162+0.0im             0.0+0.0im\n",
       "         0.0+0.0im  -0.0121454+0.0im          0.0+0.0im             0.0+0.0im\n",
       "  2.04124e-5+0.0im         0.0+0.0im   -0.0171184+0.0im             0.0+0.0im\n",
       "         0.0+0.0im  4.56435e-5+0.0im          0.0+0.0im  …  0.000229129+0.0im\n",
       "         0.0+0.0im         0.0+0.0im   7.90569e-5+0.0im             0.0+0.0im\n",
       "         0.0+0.0im         0.0+0.0im          0.0+0.0im      -0.0415779+0.0im\n",
       "         0.0+0.0im         0.0+0.0im          0.0+0.0im             0.0+0.0im\n",
       "         0.0+0.0im         0.0+0.0im          0.0+0.0im        0.955637+0.0im"
      ]
     },
     "execution_count": 4,
     "metadata": {},
     "output_type": "execute_result"
    }
   ],
   "source": [
    "I(10) - (ϵ * (â + â'))^2 / 2 + (ϵ * (â + â'))^4 / 24"
   ]
  },
  {
   "cell_type": "code",
   "execution_count": 5,
   "metadata": {},
   "outputs": [
    {
     "data": {
      "text/plain": [
       "3×3 SparseMatrixCSC{ComplexF64, Int64} with 5 stored entries:\n",
       " 0.715295+0.0im           ⋅      0.555671+0.0im\n",
       " 0.028632+0.0im           ⋅               ⋅    \n",
       "  0.33672+0.0im  0.383971+0.0im           ⋅    "
      ]
     },
     "execution_count": 5,
     "metadata": {},
     "output_type": "execute_result"
    }
   ],
   "source": [
    "A = sprand(3, 3, 0.5) \n",
    "complex(A)"
   ]
  },
  {
   "cell_type": "code",
   "execution_count": 6,
   "metadata": {},
   "outputs": [
    {
     "data": {
      "text/plain": [
       "3-element Vector{UnitRange{Int64}}:\n",
       " 1:2\n",
       " 1:2\n",
       " 1:2"
      ]
     },
     "execution_count": 6,
     "metadata": {},
     "output_type": "execute_result"
    }
   ],
   "source": [
    "fill(1:2, 3)"
   ]
  },
  {
   "cell_type": "code",
   "execution_count": 7,
   "metadata": {},
   "outputs": [
    {
     "data": {
      "text/plain": [
       "2×2 Matrix{Int64}:\n",
       " 0  1\n",
       " 1  0"
      ]
     },
     "execution_count": 7,
     "metadata": {},
     "output_type": "execute_result"
    }
   ],
   "source": [
    "X = gate(:X)"
   ]
  },
  {
   "cell_type": "code",
   "execution_count": 8,
   "metadata": {},
   "outputs": [
    {
     "data": {
      "text/plain": [
       "TransmonSystem"
      ]
     },
     "execution_count": 8,
     "metadata": {},
     "output_type": "execute_result"
    }
   ],
   "source": [
    "@doc raw\"\"\"\n",
    "    TransmonSystem(;\n",
    "        ω::Float64=4.4153,  # GHz \n",
    "        δ::Float64=0.17215, # GHz\n",
    "        levels::Int=3,\n",
    "        frame_ω::Float64=ω,\n",
    "    ) -> QuantumSystem\n",
    "\n",
    "Returns a `QuantumSystem` object for a transmon qubit, with the Hamiltonian\n",
    "\n",
    "```math\n",
    "H = \\omega a^\\dagger a + \\frac{\\delta}{2} a^\\dagger a^\\dagger a a \n",
    "```\n",
    "\n",
    "where `a` is the annihilation operator.\n",
    "\n",
    "# Keyword Arguments\n",
    "- `ω`: The frequency of the transmon, in GHz.\n",
    "- `δ`: The anharmonicity of the transmon, in GHz.\n",
    "- `levels`: The number of levels in the transmon.\n",
    "- `frame_ω`: The frequency of the rotating frame, in GHz.\n",
    "\n",
    "\"\"\"\n",
    "function TransmonSystem(;\n",
    "    ω::Float64=4.0,  # GHz \n",
    "    δ::Float64=-0.2, # GHz\n",
    "    levels::Int=3,\n",
    "    lab_frame::Bool=false,\n",
    "    frame_ω::Float64=lab_frame ? 0.0 : ω,\n",
    ") \n",
    "    if lab_frame\n",
    "        frame_ω = 0.0\n",
    "    end\n",
    "    \n",
    "    if !(frame_ω ≈ 0.0)\n",
    "        lab_frame = false\n",
    "    end\n",
    "\n",
    "    a = annihilate(levels)\n",
    "\n",
    "    if lab_frame \n",
    "        # TODO: add functionality for hamiltonian with cosine\n",
    "        H_drift = ω * a' * a + δ / 12 * (a + a')^4 \n",
    "    else\n",
    "        H_drift = (ω - frame_ω) * a' * a + δ / 2 * a' * a' * a * a\n",
    "    end\n",
    "\n",
    "    H_drives = [a + a', 1.0im * (a - a')]\n",
    "\n",
    "    params = Dict{Symbol, Any}(\n",
    "        :ω => ω,\n",
    "        :δ => δ,\n",
    "        :levels => levels,\n",
    "        :lab_frame => lab_frame,\n",
    "        :frame_ω => frame_ω,\n",
    "    )\n",
    "\n",
    "    return QuantumSystem(\n",
    "        H_drift,\n",
    "        H_drives;\n",
    "        constructor=TransmonSystem,\n",
    "        params=params,\n",
    "    )\n",
    "end"
   ]
  },
  {
   "cell_type": "code",
   "execution_count": 9,
   "metadata": {},
   "outputs": [
    {
     "data": {
      "text/plain": [
       "Dict{Symbol, Any} with 5 entries:\n",
       "  :ω         => 4.0\n",
       "  :lab_frame => false\n",
       "  :δ         => -0.2\n",
       "  :levels    => 3\n",
       "  :frame_ω   => 4.0"
      ]
     },
     "execution_count": 9,
     "metadata": {},
     "output_type": "execute_result"
    }
   ],
   "source": [
    "sys = TransmonSystem()\n",
    "sys.params"
   ]
  },
  {
   "cell_type": "code",
   "execution_count": 10,
   "metadata": {},
   "outputs": [
    {
     "data": {
      "text/plain": [
       "Dict{Symbol, Any} with 5 entries:\n",
       "  :ω         => 4.0\n",
       "  :lab_frame => true\n",
       "  :δ         => -0.2\n",
       "  :levels    => 3\n",
       "  :frame_ω   => 0.0"
      ]
     },
     "execution_count": 10,
     "metadata": {},
     "output_type": "execute_result"
    }
   ],
   "source": [
    "sys = TransmonSystem()\n",
    "new_sys = sys(lab_frame=true)\n",
    "new_sys.params"
   ]
  },
  {
   "cell_type": "code",
   "execution_count": 11,
   "metadata": {},
   "outputs": [
    {
     "data": {
      "text/plain": [
       "3×3 SparseMatrixCSC{ComplexF64, Int64} with 1 stored entry:\n",
       "     ⋅          ⋅           ⋅    \n",
       "     ⋅          ⋅           ⋅    \n",
       "     ⋅          ⋅      -0.2+0.0im"
      ]
     },
     "execution_count": 11,
     "metadata": {},
     "output_type": "execute_result"
    }
   ],
   "source": [
    "sys.H_drift"
   ]
  },
  {
   "cell_type": "code",
   "execution_count": 12,
   "metadata": {},
   "outputs": [
    {
     "data": {
      "text/plain": [
       "3×3 SparseMatrixCSC{ComplexF64, Int64} with 5 stored entries:\n",
       "      -0.05+0.0im       ⋅      -0.0707107+0.0im\n",
       "            ⋅      3.85+0.0im             ⋅    \n",
       " -0.0707107+0.0im       ⋅             7.9+0.0im"
      ]
     },
     "execution_count": 12,
     "metadata": {},
     "output_type": "execute_result"
    }
   ],
   "source": [
    "new_sys.H_drift"
   ]
  },
  {
   "cell_type": "code",
   "execution_count": null,
   "metadata": {},
   "outputs": [],
   "source": []
  },
  {
   "cell_type": "code",
   "execution_count": 13,
   "metadata": {},
   "outputs": [
    {
     "data": {
      "text/plain": [
       "TransmonDipoleCoupling (generic function with 2 methods)"
      ]
     },
     "execution_count": 13,
     "metadata": {},
     "output_type": "execute_result"
    }
   ],
   "source": [
    "function TransmonDipoleCoupling(\n",
    "    g_ij::Float64,\n",
    "    pair::Tuple{Int, Int},\n",
    "    sub_levels::Vector{Int};\n",
    "    lab_frame::Bool=false,\n",
    ")\n",
    "    i, j = pair\n",
    "    a_i = lift(annihilate(sub_levels[i]), i, sub_levels)\n",
    "    a_j = lift(annihilate(sub_levels[j]), j, sub_levels)\n",
    "\n",
    "    if lab_frame\n",
    "        op = g_ij * (a_i + a_i') * (a_j + a_j')\n",
    "    else\n",
    "        op = g_ij * (a_i * a_j' + a_i' * a_j)\n",
    "    end\n",
    "\n",
    "    params = Dict{Symbol, Any}(\n",
    "        :lab_frame => lab_frame,\n",
    "    )\n",
    "\n",
    "    return QuantumSystemCoupling(\n",
    "        op,\n",
    "        g_ij,\n",
    "        pair,\n",
    "        sub_levels,\n",
    "        TransmonDipoleCoupling,\n",
    "        params\n",
    "    )\n",
    "end\n",
    "\n",
    "function TransmonDipoleCoupling(\n",
    "    g_ij::Float64,\n",
    "    pair::Tuple{Int, Int},\n",
    "    sub_systems::Vector{QuantumSystem};\n",
    "    kwargs...\n",
    ")\n",
    "    sub_levels = [sys.levels for sys ∈ sub_systems]\n",
    "    return TransmonDipoleCoupling(g_ij, pair, sub_levels; kwargs...)\n",
    "end\n"
   ]
  },
  {
   "cell_type": "code",
   "execution_count": 14,
   "metadata": {},
   "outputs": [
    {
     "data": {
      "text/plain": [
       "QuantumSystemCoupling(sparse([5, 6, 7, 2, 3, 9, 4, 10, 11, 6, 7, 8], [2, 3, 4, 5, 6, 6, 7, 7, 8, 9, 10, 11], ComplexF64[1.0 + 0.0im, 1.4142135623730951 + 0.0im, 1.7320508075688772 + 0.0im, 1.0 + 0.0im, 1.4142135623730951 + 0.0im, 1.4142135623730951 + 0.0im, 1.7320508075688772 + 0.0im, 2.0000000000000004 + 0.0im, 2.4494897427831783 + 0.0im, 1.4142135623730951 + 0.0im, 2.0000000000000004 + 0.0im, 2.4494897427831783 + 0.0im], 12, 12), 1.0, (1, 2), [3, 4], TransmonDipoleCoupling, Dict{Symbol, Any}(:lab_frame => false))"
      ]
     },
     "execution_count": 14,
     "metadata": {},
     "output_type": "execute_result"
    }
   ],
   "source": [
    "coupling = TransmonDipoleCoupling(1.0, (1, 2), [3, 4])"
   ]
  },
  {
   "cell_type": "code",
   "execution_count": 15,
   "metadata": {},
   "outputs": [
    {
     "data": {
      "text/plain": [
       "QuantumSystem(sparse([3], [3], ComplexF64[-0.20000000000000004 + 0.0im], 3, 3), SparseMatrixCSC{ComplexF64, Int64}[sparse([2, 1, 3, 2], [1, 2, 2, 3], ComplexF64[1.0 + 0.0im, 1.0 + 0.0im, 1.4142135623730951 + 0.0im, 1.4142135623730951 + 0.0im], 3, 3), sparse([2, 1, 3, 2], [1, 2, 2, 3], ComplexF64[-0.0 - 1.0im, 0.0 + 1.0im, -0.0 - 1.4142135623730951im, 0.0 + 1.4142135623730951im], 3, 3)], sparse([6, 3], [3, 6], [0.20000000000000004, -0.20000000000000004], 6, 6), SparseMatrixCSC{Float64, Int64}[sparse([5, 4, 6, 5, 2, 1, 3, 2], [1, 2, 2, 3, 4, 5, 5, 6], [-1.0, -1.0, -1.4142135623730951, -1.4142135623730951, 1.0, 1.0, 1.4142135623730951, 1.4142135623730951], 6, 6), sparse([2, 1, 3, 2, 5, 4, 6, 5], [1, 2, 2, 3, 4, 5, 5, 6], [-1.0, 1.0, -1.4142135623730951, 1.4142135623730951, -1.0, 1.0, -1.4142135623730951, 1.4142135623730951], 6, 6)], 3, TransmonSystem, Dict{Symbol, Any}(:ω => 4.0, :lab_frame => false, :δ => -0.2, :levels => 3, :frame_ω => 4.0))"
      ]
     },
     "execution_count": 15,
     "metadata": {},
     "output_type": "execute_result"
    }
   ],
   "source": [
    "sys1 = copy(sys)"
   ]
  },
  {
   "cell_type": "code",
   "execution_count": 16,
   "metadata": {},
   "outputs": [
    {
     "data": {
      "text/plain": [
       "QuantumSystem(sparse([3], [3], ComplexF64[-0.20000000000000004 + 0.0im], 3, 3), SparseMatrixCSC{ComplexF64, Int64}[sparse([2, 1, 3, 2], [1, 2, 2, 3], ComplexF64[1.0 + 0.0im, 1.0 + 0.0im, 1.4142135623730951 + 0.0im, 1.4142135623730951 + 0.0im], 3, 3), sparse([2, 1, 3, 2], [1, 2, 2, 3], ComplexF64[-0.0 - 1.0im, 0.0 + 1.0im, -0.0 - 1.4142135623730951im, 0.0 + 1.4142135623730951im], 3, 3)], sparse([6, 3], [3, 6], [0.20000000000000004, -0.20000000000000004], 6, 6), SparseMatrixCSC{Float64, Int64}[sparse([5, 4, 6, 5, 2, 1, 3, 2], [1, 2, 2, 3, 4, 5, 5, 6], [-1.0, -1.0, -1.4142135623730951, -1.4142135623730951, 1.0, 1.0, 1.4142135623730951, 1.4142135623730951], 6, 6), sparse([2, 1, 3, 2, 5, 4, 6, 5], [1, 2, 2, 3, 4, 5, 5, 6], [-1.0, 1.0, -1.4142135623730951, 1.4142135623730951, -1.0, 1.0, -1.4142135623730951, 1.4142135623730951], 6, 6)], 3, TransmonSystem, Dict{Symbol, Any}(:ω => 4.0, :lab_frame => false, :δ => -0.2, :levels => 3, :frame_ω => 4.0))"
      ]
     },
     "execution_count": 16,
     "metadata": {},
     "output_type": "execute_result"
    }
   ],
   "source": [
    "sys2 = copy(sys)"
   ]
  },
  {
   "cell_type": "code",
   "execution_count": 17,
   "metadata": {},
   "outputs": [
    {
     "data": {
      "text/plain": [
       "QuantumSystemCoupling(sparse([4, 5, 2, 3, 7, 8, 5, 6], [2, 3, 4, 5, 5, 6, 7, 8], ComplexF64[1.0 + 0.0im, 1.4142135623730951 + 0.0im, 1.0 + 0.0im, 1.4142135623730951 + 0.0im, 1.4142135623730951 + 0.0im, 2.0000000000000004 + 0.0im, 1.4142135623730951 + 0.0im, 2.0000000000000004 + 0.0im], 9, 9), 1.0, (1, 2), [3, 3], TransmonDipoleCoupling, Dict{Symbol, Any}(:lab_frame => false))"
      ]
     },
     "execution_count": 17,
     "metadata": {},
     "output_type": "execute_result"
    }
   ],
   "source": [
    "coupling = TransmonDipoleCoupling(1.0, (1, 2), [sys1, sys2])"
   ]
  },
  {
   "cell_type": "code",
   "execution_count": 18,
   "metadata": {},
   "outputs": [
    {
     "data": {
      "text/plain": [
       "9×9 SparseMatrixCSC{ComplexF64, Int64} with 8 stored entries:\n",
       "     ⋅          ⋅              ⋅      …          ⋅          ⋅          ⋅    \n",
       "     ⋅          ⋅              ⋅                 ⋅          ⋅          ⋅    \n",
       "     ⋅          ⋅              ⋅                 ⋅          ⋅          ⋅    \n",
       "     ⋅      1.0+0.0im          ⋅                 ⋅          ⋅          ⋅    \n",
       "     ⋅          ⋅      1.41421+0.0im     1.41421+0.0im      ⋅          ⋅    \n",
       "     ⋅          ⋅              ⋅      …          ⋅      2.0+0.0im      ⋅    \n",
       "     ⋅          ⋅              ⋅                 ⋅          ⋅          ⋅    \n",
       "     ⋅          ⋅              ⋅                 ⋅          ⋅          ⋅    \n",
       "     ⋅          ⋅              ⋅                 ⋅          ⋅          ⋅    "
      ]
     },
     "execution_count": 18,
     "metadata": {},
     "output_type": "execute_result"
    }
   ],
   "source": [
    "coupling.op"
   ]
  },
  {
   "cell_type": "code",
   "execution_count": 19,
   "metadata": {},
   "outputs": [
    {
     "data": {
      "text/plain": [
       "CompositeQuantumSystem(sparse([4, 3, 5, 2, 3, 7, 6, 8, 5, 7, 6, 8, 9], [2, 3, 3, 4, 5, 5, 6, 6, 7, 7, 8, 8, 9], ComplexF64[1.0 + 0.0im, -0.20000000000000004 + 0.0im, 1.4142135623730951 + 0.0im, 1.0 + 0.0im, 1.4142135623730951 + 0.0im, 1.4142135623730951 + 0.0im, -0.20000000000000004 + 0.0im, 2.0000000000000004 + 0.0im, 1.4142135623730951 + 0.0im, -0.20000000000000004 + 0.0im, 2.0000000000000004 + 0.0im, -0.20000000000000004 + 0.0im, -0.4000000000000001 + 0.0im], 9, 9), SparseMatrixCSC{ComplexF64, Int64}[sparse([4, 5, 6, 1, 7, 2, 8, 3, 9, 4, 5, 6], [1, 2, 3, 4, 4, 5, 5, 6, 6, 7, 8, 9], ComplexF64[1.0 + 0.0im, 1.0 + 0.0im, 1.0 + 0.0im, 1.0 + 0.0im, 1.4142135623730951 + 0.0im, 1.0 + 0.0im, 1.4142135623730951 + 0.0im, 1.0 + 0.0im, 1.4142135623730951 + 0.0im, 1.4142135623730951 + 0.0im, 1.4142135623730951 + 0.0im, 1.4142135623730951 + 0.0im], 9, 9), sparse([4, 5, 6, 1, 7, 2, 8, 3, 9, 4, 5, 6], [1, 2, 3, 4, 4, 5, 5, 6, 6, 7, 8, 9], ComplexF64[0.0 - 1.0im, 0.0 - 1.0im, 0.0 - 1.0im, 0.0 + 1.0im, 0.0 - 1.4142135623730951im, 0.0 + 1.0im, 0.0 - 1.4142135623730951im, 0.0 + 1.0im, 0.0 - 1.4142135623730951im, 0.0 + 1.4142135623730951im, 0.0 + 1.4142135623730951im, 0.0 + 1.4142135623730951im], 9, 9), sparse([2, 1, 3, 2, 5, 4, 6, 5, 8, 7, 9, 8], [1, 2, 2, 3, 4, 5, 5, 6, 7, 8, 8, 9], ComplexF64[1.0 + 0.0im, 1.0 + 0.0im, 1.4142135623730951 + 0.0im, 1.4142135623730951 + 0.0im, 1.0 + 0.0im, 1.0 + 0.0im, 1.4142135623730951 + 0.0im, 1.4142135623730951 + 0.0im, 1.0 + 0.0im, 1.0 + 0.0im, 1.4142135623730951 + 0.0im, 1.4142135623730951 + 0.0im], 9, 9), sparse([2, 1, 3, 2, 5, 4, 6, 5, 8, 7, 9, 8], [1, 2, 2, 3, 4, 5, 5, 6, 7, 8, 8, 9], ComplexF64[0.0 - 1.0im, 0.0 + 1.0im, 0.0 - 1.4142135623730951im, 0.0 + 1.4142135623730951im, 0.0 - 1.0im, 0.0 + 1.0im, 0.0 - 1.4142135623730951im, 0.0 + 1.4142135623730951im, 0.0 - 1.0im, 0.0 + 1.0im, 0.0 - 1.4142135623730951im, 0.0 + 1.4142135623730951im], 9, 9)], sparse([13, 12, 14, 11, 12, 16, 15, 17, 14, 16  …  2, 3, 7, 6, 8, 5, 7, 6, 8, 9], [2, 3, 3, 4, 5, 5, 6, 6, 7, 7  …  13, 14, 14, 15, 15, 16, 16, 17, 17, 18], [-1.0, 0.20000000000000004, -1.4142135623730951, -1.0, -1.4142135623730951, -1.4142135623730951, 0.20000000000000004, -2.0000000000000004, -1.4142135623730951, 0.20000000000000004  …  1.0, 1.4142135623730951, 1.4142135623730951, -0.20000000000000004, 2.0000000000000004, 1.4142135623730951, -0.20000000000000004, 2.0000000000000004, -0.20000000000000004, -0.4000000000000001], 18, 18), SparseMatrixCSC{Float64, Int64}[sparse([13, 14, 15, 10, 16, 11, 17, 12, 18, 13  …  6, 1, 7, 2, 8, 3, 9, 4, 5, 6], [1, 2, 3, 4, 4, 5, 5, 6, 6, 7  …  12, 13, 13, 14, 14, 15, 15, 16, 17, 18], [-1.0, -1.0, -1.0, -1.0, -1.4142135623730951, -1.0, -1.4142135623730951, -1.0, -1.4142135623730951, -1.4142135623730951  …  1.0, 1.0, 1.4142135623730951, 1.0, 1.4142135623730951, 1.0, 1.4142135623730951, 1.4142135623730951, 1.4142135623730951, 1.4142135623730951], 18, 18), sparse([4, 5, 6, 1, 7, 2, 8, 3, 9, 4  …  15, 10, 16, 11, 17, 12, 18, 13, 14, 15], [1, 2, 3, 4, 4, 5, 5, 6, 6, 7  …  12, 13, 13, 14, 14, 15, 15, 16, 17, 18], [-1.0, -1.0, -1.0, 1.0, -1.4142135623730951, 1.0, -1.4142135623730951, 1.0, -1.4142135623730951, 1.4142135623730951  …  -1.0, 1.0, -1.4142135623730951, 1.0, -1.4142135623730951, 1.0, -1.4142135623730951, 1.4142135623730951, 1.4142135623730951, 1.4142135623730951], 18, 18), sparse([11, 10, 12, 11, 14, 13, 15, 14, 17, 16  …  3, 2, 5, 4, 6, 5, 8, 7, 9, 8], [1, 2, 2, 3, 4, 5, 5, 6, 7, 8  …  11, 12, 13, 14, 14, 15, 16, 17, 17, 18], [-1.0, -1.0, -1.4142135623730951, -1.4142135623730951, -1.0, -1.0, -1.4142135623730951, -1.4142135623730951, -1.0, -1.0  …  1.4142135623730951, 1.4142135623730951, 1.0, 1.0, 1.4142135623730951, 1.4142135623730951, 1.0, 1.0, 1.4142135623730951, 1.4142135623730951], 18, 18), sparse([2, 1, 3, 2, 5, 4, 6, 5, 8, 7  …  12, 11, 14, 13, 15, 14, 17, 16, 18, 17], [1, 2, 2, 3, 4, 5, 5, 6, 7, 8  …  11, 12, 13, 14, 14, 15, 16, 17, 17, 18], [-1.0, 1.0, -1.4142135623730951, 1.4142135623730951, -1.0, 1.0, -1.4142135623730951, 1.4142135623730951, -1.0, 1.0  …  -1.4142135623730951, 1.4142135623730951, -1.0, 1.0, -1.4142135623730951, 1.4142135623730951, -1.0, 1.0, -1.4142135623730951, 1.4142135623730951], 18, 18)], 9, [3, 3], Dict{Symbol, Any}(), QuantumSystem[QuantumSystem(sparse([3], [3], ComplexF64[-0.20000000000000004 + 0.0im], 3, 3), SparseMatrixCSC{ComplexF64, Int64}[sparse([2, 1, 3, 2], [1, 2, 2, 3], ComplexF64[1.0 + 0.0im, 1.0 + 0.0im, 1.4142135623730951 + 0.0im, 1.4142135623730951 + 0.0im], 3, 3), sparse([2, 1, 3, 2], [1, 2, 2, 3], ComplexF64[-0.0 - 1.0im, 0.0 + 1.0im, -0.0 - 1.4142135623730951im, 0.0 + 1.4142135623730951im], 3, 3)], sparse([6, 3], [3, 6], [0.20000000000000004, -0.20000000000000004], 6, 6), SparseMatrixCSC{Float64, Int64}[sparse([5, 4, 6, 5, 2, 1, 3, 2], [1, 2, 2, 3, 4, 5, 5, 6], [-1.0, -1.0, -1.4142135623730951, -1.4142135623730951, 1.0, 1.0, 1.4142135623730951, 1.4142135623730951], 6, 6), sparse([2, 1, 3, 2, 5, 4, 6, 5], [1, 2, 2, 3, 4, 5, 5, 6], [-1.0, 1.0, -1.4142135623730951, 1.4142135623730951, -1.0, 1.0, -1.4142135623730951, 1.4142135623730951], 6, 6)], 3, TransmonSystem, Dict{Symbol, Any}(:ω => 4.0, :lab_frame => false, :δ => -0.2, :levels => 3, :frame_ω => 4.0)), QuantumSystem(sparse([3], [3], ComplexF64[-0.20000000000000004 + 0.0im], 3, 3), SparseMatrixCSC{ComplexF64, Int64}[sparse([2, 1, 3, 2], [1, 2, 2, 3], ComplexF64[1.0 + 0.0im, 1.0 + 0.0im, 1.4142135623730951 + 0.0im, 1.4142135623730951 + 0.0im], 3, 3), sparse([2, 1, 3, 2], [1, 2, 2, 3], ComplexF64[-0.0 - 1.0im, 0.0 + 1.0im, -0.0 - 1.4142135623730951im, 0.0 + 1.4142135623730951im], 3, 3)], sparse([6, 3], [3, 6], [0.20000000000000004, -0.20000000000000004], 6, 6), SparseMatrixCSC{Float64, Int64}[sparse([5, 4, 6, 5, 2, 1, 3, 2], [1, 2, 2, 3, 4, 5, 5, 6], [-1.0, -1.0, -1.4142135623730951, -1.4142135623730951, 1.0, 1.0, 1.4142135623730951, 1.4142135623730951], 6, 6), sparse([2, 1, 3, 2, 5, 4, 6, 5], [1, 2, 2, 3, 4, 5, 5, 6], [-1.0, 1.0, -1.4142135623730951, 1.4142135623730951, -1.0, 1.0, -1.4142135623730951, 1.4142135623730951], 6, 6)], 3, TransmonSystem, Dict{Symbol, Any}(:ω => 4.0, :lab_frame => false, :δ => -0.2, :levels => 3, :frame_ω => 4.0))], QuantumSystemCoupling[QuantumSystemCoupling(sparse([4, 5, 2, 3, 7, 8, 5, 6], [2, 3, 4, 5, 5, 6, 7, 8], ComplexF64[1.0 + 0.0im, 1.4142135623730951 + 0.0im, 1.0 + 0.0im, 1.4142135623730951 + 0.0im, 1.4142135623730951 + 0.0im, 2.0000000000000004 + 0.0im, 1.4142135623730951 + 0.0im, 2.0000000000000004 + 0.0im], 9, 9), 1.0, (1, 2), [3, 3], TransmonDipoleCoupling, Dict{Symbol, Any}(:lab_frame => false))])"
      ]
     },
     "execution_count": 19,
     "metadata": {},
     "output_type": "execute_result"
    }
   ],
   "source": [
    "composite_sys = CompositeQuantumSystem([sys1, sys2]; couplings=[coupling])"
   ]
  },
  {
   "cell_type": "code",
   "execution_count": 20,
   "metadata": {},
   "outputs": [
    {
     "data": {
      "text/plain": [
       "9×9 SparseMatrixCSC{ComplexF64, Int64} with 13 stored entries:\n",
       "     ⋅          ⋅              ⋅          ⋅      …       ⋅           ⋅    \n",
       "     ⋅          ⋅              ⋅      1.0+0.0im          ⋅           ⋅    \n",
       "     ⋅          ⋅         -0.2+0.0im      ⋅              ⋅           ⋅    \n",
       "     ⋅      1.0+0.0im          ⋅          ⋅              ⋅           ⋅    \n",
       "     ⋅          ⋅      1.41421+0.0im      ⋅              ⋅           ⋅    \n",
       "     ⋅          ⋅              ⋅          ⋅      …   2.0+0.0im       ⋅    \n",
       "     ⋅          ⋅              ⋅          ⋅              ⋅           ⋅    \n",
       "     ⋅          ⋅              ⋅          ⋅         -0.2+0.0im       ⋅    \n",
       "     ⋅          ⋅              ⋅          ⋅              ⋅      -0.4+0.0im"
      ]
     },
     "execution_count": 20,
     "metadata": {},
     "output_type": "execute_result"
    }
   ],
   "source": [
    "composite_sys.H_drift"
   ]
  },
  {
   "cell_type": "code",
   "execution_count": 21,
   "metadata": {},
   "outputs": [
    {
     "data": {
      "text/plain": [
       "9×9 SparseMatrixCSC{ComplexF64, Int64} with 12 stored entries:\n",
       "     ⋅          1.0+0.0im          ⋅      …          ⋅              ⋅    \n",
       " 1.0+0.0im          ⋅      1.41421+0.0im             ⋅              ⋅    \n",
       "     ⋅      1.41421+0.0im          ⋅                 ⋅              ⋅    \n",
       "     ⋅              ⋅              ⋅                 ⋅              ⋅    \n",
       "     ⋅              ⋅              ⋅                 ⋅              ⋅    \n",
       "     ⋅              ⋅              ⋅      …          ⋅              ⋅    \n",
       "     ⋅              ⋅              ⋅             1.0+0.0im          ⋅    \n",
       "     ⋅              ⋅              ⋅                 ⋅      1.41421+0.0im\n",
       "     ⋅              ⋅              ⋅         1.41421+0.0im          ⋅    "
      ]
     },
     "execution_count": 21,
     "metadata": {},
     "output_type": "execute_result"
    }
   ],
   "source": [
    "composite_sys.H_drives[3]"
   ]
  },
  {
   "cell_type": "code",
   "execution_count": 22,
   "metadata": {},
   "outputs": [
    {
     "data": {
      "text/plain": [
       "2-element Vector{QuantumSystem}:\n",
       " QuantumSystem(sparse([3], [3], ComplexF64[-0.20000000000000004 + 0.0im], 3, 3), SparseMatrixCSC{ComplexF64, Int64}[sparse([2, 1, 3, 2], [1, 2, 2, 3], ComplexF64[1.0 + 0.0im, 1.0 + 0.0im, 1.4142135623730951 + 0.0im, 1.4142135623730951 + 0.0im], 3, 3), sparse([2, 1, 3, 2], [1, 2, 2, 3], ComplexF64[-0.0 - 1.0im, 0.0 + 1.0im, -0.0 - 1.4142135623730951im, 0.0 + 1.4142135623730951im], 3, 3)], sparse([6, 3], [3, 6], [0.20000000000000004, -0.20000000000000004], 6, 6), SparseMatrixCSC{Float64, Int64}[sparse([5, 4, 6, 5, 2, 1, 3, 2], [1, 2, 2, 3, 4, 5, 5, 6], [-1.0, -1.0, -1.4142135623730951, -1.4142135623730951, 1.0, 1.0, 1.4142135623730951, 1.4142135623730951], 6, 6), sparse([2, 1, 3, 2, 5, 4, 6, 5], [1, 2, 2, 3, 4, 5, 5, 6], [-1.0, 1.0, -1.4142135623730951, 1.4142135623730951, -1.0, 1.0, -1.4142135623730951, 1.4142135623730951], 6, 6)], 3, TransmonSystem, Dict{Symbol, Any}(:ω => 4.0, :lab_frame => false, :δ => -0.2, :levels => 3, :frame_ω => 4.0))\n",
       " QuantumSystem(sparse([3], [3], ComplexF64[-0.20000000000000004 + 0.0im], 3, 3), SparseMatrixCSC{ComplexF64, Int64}[sparse([2, 1, 3, 2], [1, 2, 2, 3], ComplexF64[1.0 + 0.0im, 1.0 + 0.0im, 1.4142135623730951 + 0.0im, 1.4142135623730951 + 0.0im], 3, 3), sparse([2, 1, 3, 2], [1, 2, 2, 3], ComplexF64[-0.0 - 1.0im, 0.0 + 1.0im, -0.0 - 1.4142135623730951im, 0.0 + 1.4142135623730951im], 3, 3)], sparse([6, 3], [3, 6], [0.20000000000000004, -0.20000000000000004], 6, 6), SparseMatrixCSC{Float64, Int64}[sparse([5, 4, 6, 5, 2, 1, 3, 2], [1, 2, 2, 3, 4, 5, 5, 6], [-1.0, -1.0, -1.4142135623730951, -1.4142135623730951, 1.0, 1.0, 1.4142135623730951, 1.4142135623730951], 6, 6), sparse([2, 1, 3, 2, 5, 4, 6, 5], [1, 2, 2, 3, 4, 5, 5, 6], [-1.0, 1.0, -1.4142135623730951, 1.4142135623730951, -1.0, 1.0, -1.4142135623730951, 1.4142135623730951], 6, 6)], 3, TransmonSystem, Dict{Symbol, Any}(:ω => 4.0, :lab_frame => false, :δ => -0.2, :levels => 3, :frame_ω => 4.0))"
      ]
     },
     "execution_count": 22,
     "metadata": {},
     "output_type": "execute_result"
    }
   ],
   "source": [
    "composite_sys.subsystems"
   ]
  },
  {
   "cell_type": "code",
   "execution_count": 23,
   "metadata": {},
   "outputs": [
    {
     "data": {
      "text/plain": [
       "QuantumSystemCoupling(sparse([4, 5, 2, 3, 7, 8, 5, 6], [2, 3, 4, 5, 5, 6, 7, 8], ComplexF64[1.0 + 0.0im, 1.4142135623730951 + 0.0im, 1.0 + 0.0im, 1.4142135623730951 + 0.0im, 1.4142135623730951 + 0.0im, 2.0000000000000004 + 0.0im, 1.4142135623730951 + 0.0im, 2.0000000000000004 + 0.0im], 9, 9), 1.0, (1, 2), [3, 3], TransmonDipoleCoupling, Dict{Symbol, Any}(:lab_frame => false))"
      ]
     },
     "execution_count": 23,
     "metadata": {},
     "output_type": "execute_result"
    }
   ],
   "source": [
    "coupling = TransmonDipoleCoupling(1.0, (1, 2), [sys1, sys2])"
   ]
  },
  {
   "cell_type": "code",
   "execution_count": 24,
   "metadata": {},
   "outputs": [
    {
     "name": "stdout",
     "output_type": "stream",
     "text": [
      "Dict{Symbol, Any}(:ω => 4.0, :lab_frame => false, :δ => -0.2, :levels => 3, :frame_ω => 4.0)\n",
      "Dict{Symbol, Any}(:ω => 4.0, :lab_frame => false, :δ => -0.2, :levels => 3, :frame_ω => 4.0)\n"
     ]
    }
   ],
   "source": [
    "composite_sys = CompositeQuantumSystem([sys1, sys2]; couplings=[coupling])\n",
    "for sys in composite_sys.subsystems\n",
    "    println(sys.params)\n",
    "end"
   ]
  },
  {
   "cell_type": "code",
   "execution_count": 25,
   "metadata": {},
   "outputs": [
    {
     "data": {
      "text/plain": [
       "CompositeQuantumSystem(sparse([4, 3, 5, 2, 3, 7, 6, 8, 5, 7, 6, 8, 10, 9, 11, 8, 10, 9, 11, 12], [2, 3, 3, 4, 5, 5, 6, 6, 7, 7, 8, 8, 8, 9, 9, 10, 10, 11, 11, 12], ComplexF64[0.2 + 0.0im, -0.20000000000000004 + 0.0im, 0.28284271247461906 + 0.0im, 0.2 + 0.0im, 0.28284271247461906 + 0.0im, 0.28284271247461906 + 0.0im, -0.20000000000000004 + 0.0im, 0.40000000000000013 + 0.0im, 0.28284271247461906 + 0.0im, -0.30000000000000004 + 0.0im, 0.40000000000000013 + 0.0im, -0.30000000000000004 + 0.0im, 0.34641016151377546 + 0.0im, -0.5000000000000001 + 0.0im, 0.4898979485566357 + 0.0im, 0.34641016151377546 + 0.0im, -0.9 + 0.0im, 0.4898979485566357 + 0.0im, -0.9 + 0.0im, -1.1 + 0.0im], 12, 12), SparseMatrixCSC{ComplexF64, Int64}[sparse([4, 5, 6, 1, 7, 2, 8, 3, 9, 4, 10, 5, 11, 6, 12, 7, 8, 9], [1, 2, 3, 4, 4, 5, 5, 6, 6, 7, 7, 8, 8, 9, 9, 10, 11, 12], ComplexF64[1.0 + 0.0im, 1.0 + 0.0im, 1.0 + 0.0im, 1.0 + 0.0im, 1.4142135623730951 + 0.0im, 1.0 + 0.0im, 1.4142135623730951 + 0.0im, 1.0 + 0.0im, 1.4142135623730951 + 0.0im, 1.4142135623730951 + 0.0im, 1.7320508075688772 + 0.0im, 1.4142135623730951 + 0.0im, 1.7320508075688772 + 0.0im, 1.4142135623730951 + 0.0im, 1.7320508075688772 + 0.0im, 1.7320508075688772 + 0.0im, 1.7320508075688772 + 0.0im, 1.7320508075688772 + 0.0im], 12, 12), sparse([4, 5, 6, 1, 7, 2, 8, 3, 9, 4, 10, 5, 11, 6, 12, 7, 8, 9], [1, 2, 3, 4, 4, 5, 5, 6, 6, 7, 7, 8, 8, 9, 9, 10, 11, 12], ComplexF64[0.0 - 1.0im, 0.0 - 1.0im, 0.0 - 1.0im, 0.0 + 1.0im, 0.0 - 1.4142135623730951im, 0.0 + 1.0im, 0.0 - 1.4142135623730951im, 0.0 + 1.0im, 0.0 - 1.4142135623730951im, 0.0 + 1.4142135623730951im, 0.0 - 1.7320508075688772im, 0.0 + 1.4142135623730951im, 0.0 - 1.7320508075688772im, 0.0 + 1.4142135623730951im, 0.0 - 1.7320508075688772im, 0.0 + 1.7320508075688772im, 0.0 + 1.7320508075688772im, 0.0 + 1.7320508075688772im], 12, 12), sparse([2, 1, 3, 2, 5, 4, 6, 5, 8, 7, 9, 8, 11, 10, 12, 11], [1, 2, 2, 3, 4, 5, 5, 6, 7, 8, 8, 9, 10, 11, 11, 12], ComplexF64[1.0 + 0.0im, 1.0 + 0.0im, 1.4142135623730951 + 0.0im, 1.4142135623730951 + 0.0im, 1.0 + 0.0im, 1.0 + 0.0im, 1.4142135623730951 + 0.0im, 1.4142135623730951 + 0.0im, 1.0 + 0.0im, 1.0 + 0.0im, 1.4142135623730951 + 0.0im, 1.4142135623730951 + 0.0im, 1.0 + 0.0im, 1.0 + 0.0im, 1.4142135623730951 + 0.0im, 1.4142135623730951 + 0.0im], 12, 12), sparse([2, 1, 3, 2, 5, 4, 6, 5, 8, 7, 9, 8, 11, 10, 12, 11], [1, 2, 2, 3, 4, 5, 5, 6, 7, 8, 8, 9, 10, 11, 11, 12], ComplexF64[0.0 - 1.0im, 0.0 + 1.0im, 0.0 - 1.4142135623730951im, 0.0 + 1.4142135623730951im, 0.0 - 1.0im, 0.0 + 1.0im, 0.0 - 1.4142135623730951im, 0.0 + 1.4142135623730951im, 0.0 - 1.0im, 0.0 + 1.0im, 0.0 - 1.4142135623730951im, 0.0 + 1.4142135623730951im, 0.0 - 1.0im, 0.0 + 1.0im, 0.0 - 1.4142135623730951im, 0.0 + 1.4142135623730951im], 12, 12)], sparse([16, 15, 17, 14, 15, 19, 18, 20, 17, 19  …  6, 8, 10, 9, 11, 8, 10, 9, 11, 12], [2, 3, 3, 4, 5, 5, 6, 6, 7, 7  …  20, 20, 20, 21, 21, 22, 22, 23, 23, 24], [-0.2, 0.20000000000000004, -0.28284271247461906, -0.2, -0.28284271247461906, -0.28284271247461906, 0.20000000000000004, -0.40000000000000013, -0.28284271247461906, 0.30000000000000004  …  0.40000000000000013, -0.30000000000000004, 0.34641016151377546, -0.5000000000000001, 0.4898979485566357, 0.34641016151377546, -0.9, 0.4898979485566357, -0.9, -1.1], 24, 24), SparseMatrixCSC{Float64, Int64}[sparse([16, 17, 18, 13, 19, 14, 20, 15, 21, 16  …  9, 4, 10, 5, 11, 6, 12, 7, 8, 9], [1, 2, 3, 4, 4, 5, 5, 6, 6, 7  …  18, 19, 19, 20, 20, 21, 21, 22, 23, 24], [-1.0, -1.0, -1.0, -1.0, -1.4142135623730951, -1.0, -1.4142135623730951, -1.0, -1.4142135623730951, -1.4142135623730951  …  1.4142135623730951, 1.4142135623730951, 1.7320508075688772, 1.4142135623730951, 1.7320508075688772, 1.4142135623730951, 1.7320508075688772, 1.7320508075688772, 1.7320508075688772, 1.7320508075688772], 24, 24), sparse([4, 5, 6, 1, 7, 2, 8, 3, 9, 4  …  21, 16, 22, 17, 23, 18, 24, 19, 20, 21], [1, 2, 3, 4, 4, 5, 5, 6, 6, 7  …  18, 19, 19, 20, 20, 21, 21, 22, 23, 24], [-1.0, -1.0, -1.0, 1.0, -1.4142135623730951, 1.0, -1.4142135623730951, 1.0, -1.4142135623730951, 1.4142135623730951  …  -1.4142135623730951, 1.4142135623730951, -1.7320508075688772, 1.4142135623730951, -1.7320508075688772, 1.4142135623730951, -1.7320508075688772, 1.7320508075688772, 1.7320508075688772, 1.7320508075688772], 24, 24), sparse([14, 13, 15, 14, 17, 16, 18, 17, 20, 19  …  6, 5, 8, 7, 9, 8, 11, 10, 12, 11], [1, 2, 2, 3, 4, 5, 5, 6, 7, 8  …  17, 18, 19, 20, 20, 21, 22, 23, 23, 24], [-1.0, -1.0, -1.4142135623730951, -1.4142135623730951, -1.0, -1.0, -1.4142135623730951, -1.4142135623730951, -1.0, -1.0  …  1.4142135623730951, 1.4142135623730951, 1.0, 1.0, 1.4142135623730951, 1.4142135623730951, 1.0, 1.0, 1.4142135623730951, 1.4142135623730951], 24, 24), sparse([2, 1, 3, 2, 5, 4, 6, 5, 8, 7  …  18, 17, 20, 19, 21, 20, 23, 22, 24, 23], [1, 2, 2, 3, 4, 5, 5, 6, 7, 8  …  17, 18, 19, 20, 20, 21, 22, 23, 23, 24], [-1.0, 1.0, -1.4142135623730951, 1.4142135623730951, -1.0, 1.0, -1.4142135623730951, 1.4142135623730951, -1.0, 1.0  …  -1.4142135623730951, 1.4142135623730951, -1.0, 1.0, -1.4142135623730951, 1.4142135623730951, -1.0, 1.0, -1.4142135623730951, 1.4142135623730951], 24, 24)], 12, [4, 3], Dict{Symbol, Any}(), QuantumSystem[QuantumSystem(sparse([3, 4], [3, 4], ComplexF64[-0.30000000000000004 + 0.0im, -0.9 + 0.0im], 4, 4), SparseMatrixCSC{ComplexF64, Int64}[sparse([2, 1, 3, 2, 4, 3], [1, 2, 2, 3, 3, 4], ComplexF64[1.0 + 0.0im, 1.0 + 0.0im, 1.4142135623730951 + 0.0im, 1.4142135623730951 + 0.0im, 1.7320508075688772 + 0.0im, 1.7320508075688772 + 0.0im], 4, 4), sparse([2, 1, 3, 2, 4, 3], [1, 2, 2, 3, 3, 4], ComplexF64[-0.0 - 1.0im, 0.0 + 1.0im, -0.0 - 1.4142135623730951im, 0.0 + 1.4142135623730951im, -0.0 - 1.7320508075688772im, 0.0 + 1.7320508075688772im], 4, 4)], sparse([7, 8, 3, 4], [3, 4, 7, 8], [0.30000000000000004, 0.9, -0.30000000000000004, -0.9], 8, 8), SparseMatrixCSC{Float64, Int64}[sparse([6, 5, 7, 6, 8, 7, 2, 1, 3, 2, 4, 3], [1, 2, 2, 3, 3, 4, 5, 6, 6, 7, 7, 8], [-1.0, -1.0, -1.4142135623730951, -1.4142135623730951, -1.7320508075688772, -1.7320508075688772, 1.0, 1.0, 1.4142135623730951, 1.4142135623730951, 1.7320508075688772, 1.7320508075688772], 8, 8), sparse([2, 1, 3, 2, 4, 3, 6, 5, 7, 6, 8, 7], [1, 2, 2, 3, 3, 4, 5, 6, 6, 7, 7, 8], [-1.0, 1.0, -1.4142135623730951, 1.4142135623730951, -1.7320508075688772, 1.7320508075688772, -1.0, 1.0, -1.4142135623730951, 1.4142135623730951, -1.7320508075688772, 1.7320508075688772], 8, 8)], 4, TransmonSystem, Dict{Symbol, Any}(:ω => 4.0, :lab_frame => false, :δ => -0.3, :levels => 4, :frame_ω => 4.0)), QuantumSystem(sparse([3], [3], ComplexF64[-0.20000000000000004 + 0.0im], 3, 3), SparseMatrixCSC{ComplexF64, Int64}[sparse([2, 1, 3, 2], [1, 2, 2, 3], ComplexF64[1.0 + 0.0im, 1.0 + 0.0im, 1.4142135623730951 + 0.0im, 1.4142135623730951 + 0.0im], 3, 3), sparse([2, 1, 3, 2], [1, 2, 2, 3], ComplexF64[-0.0 - 1.0im, 0.0 + 1.0im, -0.0 - 1.4142135623730951im, 0.0 + 1.4142135623730951im], 3, 3)], sparse([6, 3], [3, 6], [0.20000000000000004, -0.20000000000000004], 6, 6), SparseMatrixCSC{Float64, Int64}[sparse([5, 4, 6, 5, 2, 1, 3, 2], [1, 2, 2, 3, 4, 5, 5, 6], [-1.0, -1.0, -1.4142135623730951, -1.4142135623730951, 1.0, 1.0, 1.4142135623730951, 1.4142135623730951], 6, 6), sparse([2, 1, 3, 2, 5, 4, 6, 5], [1, 2, 2, 3, 4, 5, 5, 6], [-1.0, 1.0, -1.4142135623730951, 1.4142135623730951, -1.0, 1.0, -1.4142135623730951, 1.4142135623730951], 6, 6)], 3, TransmonSystem, Dict{Symbol, Any}(:ω => 4.0, :lab_frame => false, :δ => -0.2, :levels => 3, :frame_ω => 4.0))], QuantumSystemCoupling[QuantumSystemCoupling(sparse([4, 5, 2, 3, 7, 8, 5, 6, 10, 11, 8, 9], [2, 3, 4, 5, 5, 6, 7, 8, 8, 9, 10, 11], ComplexF64[0.2 + 0.0im, 0.28284271247461906 + 0.0im, 0.2 + 0.0im, 0.28284271247461906 + 0.0im, 0.28284271247461906 + 0.0im, 0.40000000000000013 + 0.0im, 0.28284271247461906 + 0.0im, 0.40000000000000013 + 0.0im, 0.34641016151377546 + 0.0im, 0.4898979485566357 + 0.0im, 0.34641016151377546 + 0.0im, 0.4898979485566357 + 0.0im], 12, 12), 0.2, (1, 2), [4, 3], TransmonDipoleCoupling, Dict{Symbol, Any}(:lab_frame => false))])"
      ]
     },
     "execution_count": 25,
     "metadata": {},
     "output_type": "execute_result"
    }
   ],
   "source": [
    "new_composite_sys = composite_sys(\n",
    "    subsystem_params=Dict(\n",
    "        1 => Dict(\n",
    "            :δ => -0.3,\n",
    "            :levels => 4,\n",
    "        ),\n",
    "    ),\n",
    "    coupling_params=Dict(\n",
    "        1 => Dict(\n",
    "            :g_ij => 0.2\n",
    "        ),\n",
    "    )\n",
    ")"
   ]
  },
  {
   "cell_type": "code",
   "execution_count": 26,
   "metadata": {},
   "outputs": [
    {
     "name": "stdout",
     "output_type": "stream",
     "text": [
      "Dict{Symbol, Any}(:ω => 4.0, :lab_frame => false, :δ => -0.3, :levels => 4, :frame_ω => 4.0)\n",
      "Dict{Symbol, Any}(:ω => 4.0, :lab_frame => false, :δ => -0.2, :levels => 3, :frame_ω => 4.0)\n"
     ]
    }
   ],
   "source": [
    "for sys in new_composite_sys.subsystems\n",
    "    println(sys.params)\n",
    "end"
   ]
  },
  {
   "cell_type": "code",
   "execution_count": 27,
   "metadata": {},
   "outputs": [
    {
     "data": {
      "text/plain": [
       "3×3 Matrix{ComplexF64}:\n",
       " 0.0+0.0im  1.0+0.0im  0.0+0.0im\n",
       " 1.0+0.0im  0.0+0.0im  0.0+0.0im\n",
       " 0.0+0.0im  0.0+0.0im  0.0+0.0im"
      ]
     },
     "execution_count": 27,
     "metadata": {},
     "output_type": "execute_result"
    }
   ],
   "source": [
    "embed(X, sys1)"
   ]
  },
  {
   "cell_type": "code",
   "execution_count": 35,
   "metadata": {},
   "outputs": [
    {
     "data": {
      "text/plain": [
       "9×9 SparseMatrixCSC{ComplexF64, Int64} with 4 stored entries:\n",
       "     ⋅          ⋅          ⋅      …      ⋅          ⋅          ⋅    \n",
       "     ⋅          ⋅          ⋅             ⋅          ⋅          ⋅    \n",
       "     ⋅          ⋅          ⋅             ⋅          ⋅          ⋅    \n",
       " 1.0+0.0im      ⋅          ⋅             ⋅          ⋅          ⋅    \n",
       "     ⋅      1.0+0.0im      ⋅             ⋅          ⋅          ⋅    \n",
       "     ⋅          ⋅          ⋅      …      ⋅          ⋅          ⋅    \n",
       "     ⋅          ⋅          ⋅             ⋅          ⋅          ⋅    \n",
       "     ⋅          ⋅          ⋅             ⋅          ⋅          ⋅    \n",
       "     ⋅          ⋅          ⋅             ⋅          ⋅          ⋅    "
      ]
     },
     "execution_count": 35,
     "metadata": {},
     "output_type": "execute_result"
    }
   ],
   "source": [
    "X_embeded = embed(X, composite_sys, 2)\n",
    "sparse(X_embeded)"
   ]
  },
  {
   "cell_type": "code",
   "execution_count": 34,
   "metadata": {},
   "outputs": [
    {
     "data": {
      "text/plain": [
       "4×4 Matrix{ComplexF64}:\n",
       " 0.0+0.0im  0.0+0.0im  1.0+0.0im  0.0+0.0im\n",
       " 0.0+0.0im  0.0+0.0im  0.0+0.0im  1.0+0.0im\n",
       " 1.0+0.0im  0.0+0.0im  0.0+0.0im  0.0+0.0im\n",
       " 0.0+0.0im  1.0+0.0im  0.0+0.0im  0.0+0.0im"
      ]
     },
     "execution_count": 34,
     "metadata": {},
     "output_type": "execute_result"
    }
   ],
   "source": [
    "ssids = get_subspace_indices([1:2, 1:2], composite_sys.sub_levels) \n",
    "X_embeded[ssids, ssids]"
   ]
  }
 ],
 "metadata": {
  "kernelspec": {
   "display_name": "Julia 1.10.0",
   "language": "julia",
   "name": "julia-1.10"
  },
  "language_info": {
   "file_extension": ".jl",
   "mimetype": "application/julia",
   "name": "julia",
   "version": "1.10.0"
  }
 },
 "nbformat": 4,
 "nbformat_minor": 2
}
