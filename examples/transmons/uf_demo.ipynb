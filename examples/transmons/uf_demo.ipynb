{
 "cells": [
  {
   "cell_type": "code",
   "execution_count": null,
   "metadata": {},
   "outputs": [],
   "source": [
    "using Revise\n",
    "using QuantumCollocation\n",
    "using NamedTrajectories\n",
    "using LinearAlgebra\n",
    "using SparseArrays\n",
    "using Random; Random.seed!(123);"
   ]
  },
  {
   "cell_type": "markdown",
   "metadata": {},
   "source": [
    "# Transmon System\n",
    "\n",
    "Let's build a system describing mulitlevel transmon with Hamiltonian\n",
    "\n",
    "$$\n",
    "H(t) = -\\frac{\\delta}{2} a^\\dagger a^\\dagger a a + u_1(t) (a + a^\\dagger) + u_2(t) i (a - a^\\dagger)\n",
    "$$\n",
    "\n",
    "This system is implemented via the `TransmonSystem` constructor in `quantum_system_templates.jl`."
   ]
  },
  {
   "cell_type": "code",
   "execution_count": null,
   "metadata": {},
   "outputs": [],
   "source": [
    "sys = TransmonSystem(levels=4)\n",
    "\n",
    "op = EmbeddedOperator(:X, sys)\n",
    "\n",
    "T = 100\n",
    "dt = 0.1\n",
    "\n",
    "prob = UnitarySmoothPulseProblem(sys, op, T, dt; \n",
    "    a_bound=0.1\n",
    ")\n",
    "\n",
    "solve!(prob; max_iter=100)\n",
    "\n",
    "println(\"fidelity = \", unitary_fidelity(prob, subspace=op.subspace_indices)^2)"
   ]
  },
  {
   "cell_type": "code",
   "execution_count": null,
   "metadata": {},
   "outputs": [],
   "source": [
    "plot_unitary_populations(prob.trajectory; unitary_columns=1:2, res=(1000, 700))"
   ]
  },
  {
   "cell_type": "markdown",
   "metadata": {},
   "source": [
    "# Leakage Suppression\n",
    "\n",
    "We can enforce leakage suppression by adding an objective term of the form\n",
    "\n",
    "$$\n",
    "J_{\\text{leakage}}(x) = \\sum_{i,l} |U^{R}_{i,l}| + |U^{I}_{i,l}|\n",
    "$$\n",
    "\n",
    "This is $L_1$ norm regularizer on the real and imaginary parts of the $U_{i,l}$ unitary components, these are those components that transfer population out of the subspace into the leakage space."
   ]
  },
  {
   "cell_type": "code",
   "execution_count": null,
   "metadata": {},
   "outputs": [],
   "source": [
    "sys = TransmonSystem(levels=4)\n",
    "\n",
    "op = EmbeddedOperator(:X, sys)\n",
    "\n",
    "T = 100\n",
    "dt = 0.1\n",
    "\n",
    "prob_leakage = UnitarySmoothPulseProblem(sys, op, T, dt; \n",
    "    leakage_suppression=true, \n",
    "    R_leakage=1.0e-1,\n",
    "    a_bound=0.05,\n",
    "    a_guess=prob.trajectory.a\n",
    ")\n",
    "\n",
    "solve!(prob_leakage; max_iter=100)\n",
    "\n",
    "println(\"fidelity = \", unitary_fidelity(prob_leakage, subspace=op.subspace_indices)^2)"
   ]
  },
  {
   "cell_type": "code",
   "execution_count": null,
   "metadata": {},
   "outputs": [],
   "source": [
    "plot_unitary_populations(prob_leakage.trajectory; unitary_columns=1:2, res=(1000, 700))"
   ]
  },
  {
   "cell_type": "code",
   "execution_count": null,
   "metadata": {},
   "outputs": [],
   "source": [
    "plot_unitary_populations(prob.trajectory; unitary_columns=1:2, res=(1000, 700))"
   ]
  },
  {
   "cell_type": "code",
   "execution_count": null,
   "metadata": {},
   "outputs": [],
   "source": []
  },
  {
   "cell_type": "code",
   "execution_count": null,
   "metadata": {},
   "outputs": [],
   "source": []
  }
 ],
 "metadata": {
  "kernelspec": {
   "display_name": "Julia 1.10.0",
   "language": "julia",
   "name": "julia-1.10"
  },
  "language_info": {
   "file_extension": ".jl",
   "mimetype": "application/julia",
   "name": "julia",
   "version": "1.10.0"
  }
 },
 "nbformat": 4,
 "nbformat_minor": 2
}
